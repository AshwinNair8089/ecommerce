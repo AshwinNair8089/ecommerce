{
 "cells": [
  {
   "cell_type": "code",
   "execution_count": 0,
   "metadata": {
    "application/vnd.databricks.v1+cell": {
     "cellMetadata": {
      "byteLimit": 2048000,
      "rowLimit": 10000
     },
     "inputWidgets": {},
     "nuid": "dac918bc-985f-47c6-b68a-96d780a94360",
     "showTitle": false,
     "tableResultSettingsMap": {},
     "title": ""
    }
   },
   "outputs": [],
   "source": [
    "%run ./library/storage_library"
   ]
  },
  {
   "cell_type": "code",
   "execution_count": 0,
   "metadata": {
    "application/vnd.databricks.v1+cell": {
     "cellMetadata": {
      "byteLimit": 2048000,
      "rowLimit": 10000
     },
     "inputWidgets": {},
     "nuid": "6f1e14d4-49c4-4cf8-97cc-089f3909f54b",
     "showTitle": false,
     "tableResultSettingsMap": {},
     "title": ""
    }
   },
   "outputs": [],
   "source": [
    "import kagglehub\n",
    "from kagglehub import KaggleDatasetAdapter\n",
    "def download_kaggle_dataset_azure(kaggle_dataset,file,container_name,blob_name):\n",
    "    df = kagglehub.dataset_load(\n",
    "        KaggleDatasetAdapter.PANDAS,\n",
    "        kaggle_dataset,\n",
    "        file\n",
    "    )\n",
    "\n",
    "    print(\"First 5 records:\")\n",
    "    print(df.head(5))\n",
    "    #write_to_storage(df, container_name, blob_name)"
   ]
  },
  {
   "cell_type": "code",
   "execution_count": 0,
   "metadata": {
    "application/vnd.databricks.v1+cell": {
     "cellMetadata": {
      "byteLimit": 2048000,
      "rowLimit": 10000
     },
     "inputWidgets": {},
     "nuid": "a0ff1bab-5a00-4cac-8e59-358db3e08020",
     "showTitle": false,
     "tableResultSettingsMap": {},
     "title": ""
    }
   },
   "outputs": [],
   "source": [
    "blob_name = '2019-Oct.csv'\n",
    "container_name = 'ecommerce/raw_data'\n",
    "#download_kaggle_dataset_azure( \"mkechinov/ecommerce-behavior-data-from-multi-category-store\",\"2019-Oct.csv\",container_name,blob_name)\n",
    "download_kaggle_dataset_azure( \"mkechinov/ecommerce-behavior-data-from-multi-category-store\",\"2019-Nov.csv\",container_name,blob_name)"
   ]
  }
 ],
 "metadata": {
  "application/vnd.databricks.v1+notebook": {
   "computePreferences": null,
   "dashboards": [],
   "environmentMetadata": {
    "base_environment": "",
    "environment_version": "2"
   },
   "inputWidgetPreferences": null,
   "language": "python",
   "notebookMetadata": {
    "pythonIndentUnit": 4
   },
   "notebookName": "kaggle_dataset_download",
   "widgets": {}
  },
  "language_info": {
   "name": "python"
  }
 },
 "nbformat": 4,
 "nbformat_minor": 0
}
