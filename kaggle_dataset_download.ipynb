{
 "cells": [
  {
   "cell_type": "code",
   "execution_count": 0,
   "metadata": {
    "application/vnd.databricks.v1+cell": {
     "cellMetadata": {
      "byteLimit": 2048000,
      "rowLimit": 10000
     },
     "inputWidgets": {},
     "nuid": "dac918bc-985f-47c6-b68a-96d780a94360",
     "showTitle": false,
     "tableResultSettingsMap": {},
     "title": ""
    }
   },
   "outputs": [],
   "source": [
    "%run ./library/storage_library"
   ]
  },
  {
   "cell_type": "code",
   "execution_count": 0,
   "metadata": {
    "application/vnd.databricks.v1+cell": {
     "cellMetadata": {
      "byteLimit": 2048000,
      "rowLimit": 10000
     },
     "inputWidgets": {},
     "nuid": "6f1e14d4-49c4-4cf8-97cc-089f3909f54b",
     "showTitle": false,
     "tableResultSettingsMap": {},
     "title": ""
    }
   },
   "outputs": [],
   "source": [
    "import kagglehub\n",
    "from kagglehub import KaggleDatasetAdapter\n",
    "def download_kaggle_dataset_azure(kaggle_dataset,file,container_name,blob_name):\n",
    "    df = kagglehub.dataset_load(\n",
    "        KaggleDatasetAdapter.PANDAS,\n",
    "        kaggle_dataset,\n",
    "        file\n",
    "    )\n",
    "\n",
    "    print(\"First 5 records:\")\n",
    "    print(df.head(5))\n",
    "    #write_to_storage(df, container_name, blob_name)"
   ]
  },
  {
   "cell_type": "code",
   "execution_count": 0,
   "metadata": {
    "application/vnd.databricks.v1+cell": {
     "cellMetadata": {},
     "inputWidgets": {},
     "nuid": "ae08d17f-33e3-4b8d-9bdb-a98b6a49c333",
     "showTitle": false,
     "tableResultSettingsMap": {},
     "title": ""
    }
   },
   "outputs": [],
   "source": [
    "blob_name = '2019-Oct.csv'\n",
    "container_name = 'ecommerce/raw_data'\n",
    "#download_kaggle_dataset_azure( \"mkechinov/ecommerce-behavior-data-from-multi-category-store\",\"2019-Oct.csv\",container_name,blob_name)\n",
    "download_kaggle_dataset_azure( \"mkechinov/ecommerce-behavior-data-from-multi-category-store\",\"2019-Nov.csv\",container_name,blob_name)"
   ]
  },
  {
   "cell_type": "code",
   "execution_count": 0,
   "metadata": {
    "application/vnd.databricks.v1+cell": {
     "cellMetadata": {
      "byteLimit": 2048000,
      "rowLimit": 10000
     },
     "inputWidgets": {},
     "nuid": "460e374a-768d-4b09-a95c-d792e7e5db16",
     "showTitle": false,
     "tableResultSettingsMap": {},
     "title": ""
    }
   },
   "outputs": [],
   "source": [
    "from kagglehub import KaggleDatasetAdapter\n",
    "import kagglehub\n",
    "def download_kaggle_dataset_spark(kaggle_dataset, file):\n",
    "    local_path = kagglehub.dataset_download(\n",
    "        kaggle_dataset,\n",
    "        file\n",
    "        \n",
    "    )\n",
    "    \n",
    "    spark_df = spark.read.option(\"header\", True).csv(local_path)\n",
    "    spark_df.show(5)\n",
    "    return spark_df\n",
    "\n"
   ]
  },
  {
   "cell_type": "code",
   "execution_count": 0,
   "metadata": {
    "application/vnd.databricks.v1+cell": {
     "cellMetadata": {
      "byteLimit": 2048000,
      "rowLimit": 10000
     },
     "inputWidgets": {},
     "nuid": "1a0ef7bc-6a90-4eec-a855-0ee37258c881",
     "showTitle": false,
     "tableResultSettingsMap": {},
     "title": ""
    }
   },
   "outputs": [],
   "source": [
    "result = kagglehub.dataset_download(\"mkechinov/ecommerce-behavior-data-from-multi-category-store\", path=\"2019-Nov.csv\")"
   ]
  },
  {
   "cell_type": "code",
   "execution_count": 0,
   "metadata": {
    "application/vnd.databricks.v1+cell": {
     "cellMetadata": {
      "byteLimit": 2048000,
      "rowLimit": 10000
     },
     "inputWidgets": {},
     "nuid": "3846897e-930c-4a13-8290-0cee3e95fe9a",
     "showTitle": false,
     "tableResultSettingsMap": {},
     "title": ""
    }
   },
   "outputs": [],
   "source": [
    "print(result)"
   ]
  },
  {
   "cell_type": "code",
   "execution_count": 0,
   "metadata": {
    "application/vnd.databricks.v1+cell": {
     "cellMetadata": {
      "byteLimit": 2048000,
      "rowLimit": 10000
     },
     "inputWidgets": {},
     "nuid": "7ed15d1c-8e16-4a5a-88d2-d67c12e8d480",
     "showTitle": false,
     "tableResultSettingsMap": {},
     "title": ""
    }
   },
   "outputs": [],
   "source": [
    "spark_df = download_kaggle_dataset_spark(\"mkechinov/ecommerce-behavior-data-from-multi-category-store\", \"2019-Nov.csv\")"
   ]
  }
 ],
 "metadata": {
  "application/vnd.databricks.v1+notebook": {
   "computePreferences": null,
   "dashboards": [],
   "environmentMetadata": {
    "base_environment": "",
    "environment_version": "2"
   },
   "inputWidgetPreferences": null,
   "language": "python",
   "notebookMetadata": {
    "pythonIndentUnit": 4
   },
   "notebookName": "kaggle_dataset_download",
   "widgets": {}
  },
  "language_info": {
   "name": "python"
  }
 },
 "nbformat": 4,
 "nbformat_minor": 0
}
