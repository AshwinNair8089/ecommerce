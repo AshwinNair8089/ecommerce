{
 "cells": [
  {
   "cell_type": "code",
   "execution_count": 0,
   "metadata": {
    "application/vnd.databricks.v1+cell": {
     "cellMetadata": {
      "byteLimit": 2048000,
      "rowLimit": 10000
     },
     "inputWidgets": {},
     "nuid": "42ed6827-21cd-4882-aece-e9c75dd40ef2",
     "showTitle": false,
     "tableResultSettingsMap": {},
     "title": ""
    }
   },
   "outputs": [],
   "source": [
    "from pathlib import Path\n",
    "import os,itertools\n",
    "\n",
    "\n",
    "def get_root():\n",
    "    path = str(Path(os.getcwd()))\n",
    "    base_name = 'ecommerce'\n",
    "    end = path.rfind('/'+base_name+'/')\n",
    "    path = path[:end+len(base_name)+2]\n",
    "    return path\n",
    "\n",
    "\n",
    "def run_notebook(notebook_path):\n",
    "    root = get_root()\n",
    "    dbutils.notebook.run(root+notebook_path, timeout_seconds=0)\n",
    "\n",
    "#timeout of the run (0 means no timeout).\n",
    "\n",
    "\n",
    "def run_notebook_with_params(notebook_path,time,args):\n",
    "    root = get_root()\n",
    "    result = dbutils.notebook.run(root+notebook_path, timeout_seconds=time, arguments=args)\n",
    "    #print(result)\n",
    "    #return result\n",
    "\n",
    "def move_files(src, dst):\n",
    "    root = get_root()\n",
    "    src = f\"file:{root}{src}\"\n",
    "    dst = f\"file:{root}{dst}\"\n",
    "    dbutils.fs.mv(src, dst)\n",
    "    print(f\"Moved {src} to {dst}\")\n",
    "\n",
    "def delete_file_db(file_path):\n",
    "    root = get_root()\n",
    "    file_path = f\"file:{root}{file_path}\"\n",
    "    dbutils.fs.rm(file_path, recurse=False)\n",
    "\n"
   ]
  }
 ],
 "metadata": {
  "application/vnd.databricks.v1+notebook": {
   "computePreferences": null,
   "dashboards": [],
   "environmentMetadata": {
    "base_environment": "",
    "environment_version": "2"
   },
   "inputWidgetPreferences": null,
   "language": "python",
   "notebookMetadata": {
    "pythonIndentUnit": 4
   },
   "notebookName": "file_system_manager",
   "widgets": {}
  },
  "language_info": {
   "name": "python"
  }
 },
 "nbformat": 4,
 "nbformat_minor": 0
}
