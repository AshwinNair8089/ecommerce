{
 "cells": [
  {
   "cell_type": "code",
   "execution_count": 0,
   "metadata": {
    "application/vnd.databricks.v1+cell": {
     "cellMetadata": {
      "byteLimit": 2048000,
      "rowLimit": 10000
     },
     "inputWidgets": {},
     "nuid": "0cff4dd1-cfd6-492f-986d-30b410d34097",
     "showTitle": false,
     "tableResultSettingsMap": {},
     "title": ""
    }
   },
   "outputs": [],
   "source": [
    "from datetime import date\n",
    "import sys,re\n",
    "from cryptography.fernet import Fernet\n",
    "import json\n",
    "import pandas as pd \n",
    "import os,itertools\n",
    "from pathlib import Path\n",
    "import snowflake.connector\n",
    "from snowflake.snowpark.functions import *\n",
    "from snowflake.snowpark import *\n",
    "from snowflake.snowpark import DataFrame\n",
    "from snowflake.snowpark.session import *\n",
    "\n",
    "import snowflake.connector\n",
    "from snowflake.connector.errors import ProgrammingError, DatabaseError\n",
    "\n",
    "def snowflake_connector(user, password, account, warehouse=None, database=None, schema=None):\n",
    "  try:\n",
    "    conn = snowflake.connector.connect(\n",
    "      user=user,\n",
    "      password=password,\n",
    "      account=account,\n",
    "      warehouse=warehouse,\n",
    "      database=database,\n",
    "      schema=schema\n",
    "    )\n",
    "    conn.cursor().execute(\"SELECT CURRENT_VERSION()\")\n",
    "   # conn.close()\n",
    "    return conn,True, \"Connection successful.\"\n",
    "  except (ProgrammingError, DatabaseError) as e:\n",
    "    return False, f\"Connection failed: {e}\"\n",
    "\n",
    "\n",
    "#conn, success, message = snowflake_connector(\"ashwin009\", \"***************\", \"WSYCJNH-JF51761\",'COMPUTE_WH','INSHORTS','ETL')\n",
    "\n",
    "#print(message)\n",
    "\n",
    "\n",
    "from snowflake.snowpark import Session\n",
    "from snowflake.snowpark.exceptions import SnowparkSQLException\n",
    "\n",
    "def snowpark_connector(user, password, account, warehouse=None, database=None, schema=None, role=None):\n",
    "    try:\n",
    "        connection_params = {\n",
    "            \"user\": user,\n",
    "            \"password\": password,\n",
    "            \"account\": account\n",
    "        }\n",
    "\n",
    "        # Add optional parameters if provided\n",
    "        if warehouse:\n",
    "            connection_params[\"warehouse\"] = warehouse\n",
    "        if database:\n",
    "            connection_params[\"database\"] = database\n",
    "        if schema:\n",
    "            connection_params[\"schema\"] = schema\n",
    "        if role:\n",
    "            connection_params[\"role\"] = role\n",
    "\n",
    "        # Create Snowpark session\n",
    "        session = Session.builder.configs(connection_params).create()\n",
    "        \n",
    "        # Test connection (optional)\n",
    "        session.sql(\"SELECT CURRENT_VERSION()\").collect()\n",
    "\n",
    "        return session, True, \"Snowpark connection successful.\"\n",
    "    \n",
    "    except SnowparkSQLException as e:\n",
    "        return None, False, f\"Connection failed: {e}\"\n",
    "\n",
    "    "
   ]
  }
 ],
 "metadata": {
  "application/vnd.databricks.v1+notebook": {
   "computePreferences": null,
   "dashboards": [],
   "environmentMetadata": {
    "base_environment": "",
    "environment_version": "2"
   },
   "inputWidgetPreferences": null,
   "language": "python",
   "notebookMetadata": {
    "pythonIndentUnit": 4
   },
   "notebookName": "connector",
   "widgets": {}
  },
  "language_info": {
   "name": "python"
  }
 },
 "nbformat": 4,
 "nbformat_minor": 0
}
