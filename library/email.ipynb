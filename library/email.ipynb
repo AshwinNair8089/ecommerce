{
 "cells": [
  {
   "cell_type": "code",
   "execution_count": 0,
   "metadata": {
    "application/vnd.databricks.v1+cell": {
     "cellMetadata": {},
     "inputWidgets": {},
     "nuid": "a3fe1adb-cf17-4694-8d71-7774a9bb6b91",
     "showTitle": false,
     "tableResultSettingsMap": {},
     "title": ""
    }
   },
   "outputs": [],
   "source": [
    "import sys\n",
    "import smtplib,ssl\n",
    "from email.mime.multipart import MIMEMultipart\n",
    "from email.mime.text import MIMEText\n",
    "from email.utils import formatdate\n",
    "from os.path import basename\n",
    "from smtplib import SMTPAuthenticationError\n",
    "from email.mime.application import MIMEApplication\n",
    "from email.mime.base import MIMEBase\n",
    "from email import encoders\n",
    "import pandas as pd\n",
    "from pretty_html_table import build_table\n",
    "import os\n",
    "\n",
    "send_from = \"ashwin.nair8089@gmail.com\"\n",
    "new_line = \"<br>\"\n"
   ]
  },
  {
   "cell_type": "code",
   "execution_count": 0,
   "metadata": {
    "application/vnd.databricks.v1+cell": {
     "cellMetadata": {
      "byteLimit": 2048000,
      "rowLimit": 10000
     },
     "inputWidgets": {},
     "nuid": "8ec10fbf-5717-4916-b8c7-7b804eb1db62",
     "showTitle": false,
     "tableResultSettingsMap": {},
     "title": ""
    }
   },
   "outputs": [],
   "source": [
    "send_mail2(send_from, \"ashwin.nair8089@gmail.com\", \"subject\", \"text\")"
   ]
  },
  {
   "cell_type": "code",
   "execution_count": 0,
   "metadata": {
    "application/vnd.databricks.v1+cell": {
     "cellMetadata": {
      "byteLimit": 2048000,
      "rowLimit": 10000
     },
     "inputWidgets": {},
     "nuid": "eab88b8b-cdfd-4bc8-b904-a2ee3374621e",
     "showTitle": false,
     "tableResultSettingsMap": {},
     "title": ""
    }
   },
   "outputs": [],
   "source": [
    "def send_mail2(send_from, send_to, subject, text, cc=None, attachment_path=None):\n",
    "    message = MIMEMultipart()\n",
    "    message['From'] = send_from\n",
    "    message['To'] = send_to\n",
    "    message['Date'] = formatdate(localtime=True)\n",
    "    message['Subject'] = subject\n",
    "    if cc:\n",
    "        message['Cc'] = cc\n",
    "    message.attach(MIMEText(text, \"html\"))\n",
    "\n",
    "    if attachment_path and os.path.isfile(attachment_path):\n",
    "        with open(attachment_path, \"rb\") as file:\n",
    "            part = MIMEApplication(file.read(), Name=os.path.basename(attachment_path))\n",
    "            part['Content-Disposition'] = f'attachment; filename=\"{os.path.basename(attachment_path)}\"'\n",
    "            message.attach(part)\n",
    "\n",
    "    msg_body = message.as_string()\n",
    "    recipients = send_to.split(',') + (cc.split(',') if cc else [])\n",
    "\n",
    "    try:\n",
    "        with smtplib.SMTP(\"smtp.gmail.com\", 587) as server:\n",
    "            server.ehlo()\n",
    "            server.starttls()\n",
    "            server.login(send_from, os.environ[\"EMAIL_PASSWORD\"])  # Set this securely\n",
    "            server.sendmail(send_from, recipients, msg_body)\n",
    "            print(\"Email sent successfully!\")\n",
    "    except Exception as e:\n",
    "        print(f\"Failed to send email: {e}\")\n"
   ]
  }
 ],
 "metadata": {
  "application/vnd.databricks.v1+notebook": {
   "computePreferences": null,
   "dashboards": [],
   "environmentMetadata": {
    "base_environment": "",
    "environment_version": "2"
   },
   "inputWidgetPreferences": null,
   "language": "python",
   "notebookMetadata": {
    "pythonIndentUnit": 4
   },
   "notebookName": "email",
   "widgets": {}
  },
  "language_info": {
   "name": "python"
  }
 },
 "nbformat": 4,
 "nbformat_minor": 0
}
